{
 "cells": [
  {
   "cell_type": "markdown",
   "metadata": {},
   "source": [
    "# Microlens array playground"
   ]
  },
  {
   "cell_type": "code",
   "execution_count": null,
   "metadata": {},
   "outputs": [],
   "source": [
    "import chromatix.functional as cf\n",
    "import jax.numpy as jnp\n",
    "import matplotlib.pyplot as plt\n",
    "\n",
    "# # Import the microlens array element\n",
    "# from chromatix.elements import ThinLens, MicroLensArray"
   ]
  },
  {
   "cell_type": "markdown",
   "metadata": {},
   "source": [
    "### Create a plane wave field"
   ]
  },
  {
   "cell_type": "code",
   "execution_count": null,
   "metadata": {},
   "outputs": [],
   "source": [
    "field = cf.plane_wave(\n",
    "        (512, 512),\n",
    "        1.0,\n",
    "        0.532,\n",
    "        1.0,\n",
    "        amplitude=cf.linear(1 / 2 * jnp.pi),\n",
    "        scalar=False,\n",
    "    )"
   ]
  },
  {
   "cell_type": "markdown",
   "metadata": {},
   "source": [
    "### Define helpful variables and functions"
   ]
  },
  {
   "cell_type": "code",
   "execution_count": null,
   "metadata": {},
   "outputs": [],
   "source": [
    "# Functions\n",
    "def retrieve_micron_dims(field):\n",
    "    \"\"\"Adjust from pixel units to micron units.\"\"\"\n",
    "    um_length_x = field.shape[-3] * field.dx.squeeze()[0]\n",
    "    um_length_y = field.shape[-4] * field.dx.squeeze()[0]\n",
    "    return [-um_length_x / 2, um_length_x / 2, -um_length_y / 2, um_length_y / 2]\n",
    "\n",
    "\n",
    "def add_intensity_to_axes(field, ax, extent):\n",
    "    um_length_x = field.shape[-3] * field.dx.squeeze()[0]\n",
    "    um_length_y = field.shape[-4] * field.dx.squeeze()[0]\n",
    "    intensity = field.intensity.squeeze()\n",
    "    ax.imshow(intensity, extent=extent)\n",
    "    ax.set_xlabel(\"microns\")\n",
    "    ax.set_ylabel(\"microns\")\n",
    "    ax.set_xlim([-um_length_x / 2, um_length_x / 2])\n",
    "    ax.set_ylim([-um_length_y / 2, um_length_y / 2])\n",
    "    return ax\n",
    "\n",
    "# z = 100\n",
    "# spectrum = 0.532\n",
    "# n = 1.33\n",
    "# Nf = (D / 2) ** 2 / (spectrum / n * z)\n",
    "# source_field = VectorPlaneWave(shape=(512, 512), dx = 0.0001, n = 1, spectrum=spectrum, spectral_density=1.0, k = k, Ep = Ep)\n",
    "# field = cx.empty_field((N, N), dxi, 0.532, 1.0, polarized=True)\n",
    "# plane_wave_field = cx.plane_wave(field, pupil=lambda field: cx.square_pupil(field, dxi * N))\n",
    "\n",
    "wavelength = 0.532\n",
    "n_medium = 1.33\n",
    "vectorial = False\n",
    "\n",
    "\n",
    "D = 256 # 40\n",
    "N = 256\n",
    "# dxi = D / N\n",
    "Q = 5\n",
    "N_pad = Q * N\n",
    "\n",
    "phi = 0  # angle between z axis and xy plane\n",
    "theta = 0  # angle between x and y\n",
    "k = (\n",
    "    n_medium\n",
    "    * 2\n",
    "    * jnp.pi\n",
    "    / wavelength\n",
    "    * jnp.array([jnp.sin(phi) * jnp.sin(theta), jnp.sin(phi) * jnp.cos(theta)])\n",
    ")  # y and x\n",
    "Ep = jnp.array((1, 0, 0))\n",
    "\n",
    "spacing = D / N"
   ]
  },
  {
   "cell_type": "markdown",
   "metadata": {},
   "source": [
    "### Create a plane wave field that has passed through a circular aperature"
   ]
  },
  {
   "cell_type": "code",
   "execution_count": null,
   "metadata": {},
   "outputs": [],
   "source": [
    "field = cf.plane_wave(\n",
    "        (256, 256),\n",
    "        1.0,\n",
    "        0.532,\n",
    "        1.0,\n",
    "        amplitude=cf.linear(1 / 2 * jnp.pi),\n",
    "        scalar=False,\n",
    "        pupil=lambda field: cf.circular_pupil(field, spacing * N)\n",
    "    )"
   ]
  },
  {
   "cell_type": "code",
   "execution_count": null,
   "metadata": {},
   "outputs": [],
   "source": [
    "source_field = field\n",
    "extent = retrieve_micron_dims(source_field)\n",
    "fig, ax = plt.subplots(1, 1)\n",
    "ax = add_intensity_to_axes(source_field, ax, extent)"
   ]
  },
  {
   "cell_type": "code",
   "execution_count": null,
   "metadata": {},
   "outputs": [],
   "source": [
    "## This cell will not run for some reason, which is okay.\n",
    "## Propogate through MicroLensArray\n",
    "# model = ThinLens(10.0, 1.33, 0.8)\n",
    "# field_after_lens = model(field)"
   ]
  },
  {
   "cell_type": "code",
   "execution_count": null,
   "metadata": {},
   "outputs": [],
   "source": [
    "scalar_field = cf.plane_wave(\n",
    "        (256, 256),\n",
    "        1.0,\n",
    "        0.532,\n",
    "        1.0,\n",
    "        amplitude=cf.linear(1 / 2 * jnp.pi),\n",
    "        scalar=True,\n",
    "        pupil=lambda field: cf.circular_pupil(field, spacing * N)\n",
    "    )"
   ]
  },
  {
   "cell_type": "code",
   "execution_count": null,
   "metadata": {},
   "outputs": [],
   "source": [
    "scalar_field.shape"
   ]
  },
  {
   "cell_type": "markdown",
   "metadata": {},
   "source": [
    "Note: The following microlens array process has a shape incompatibility error. The dimension that is 3 likely indicates that the field is a vector field."
   ]
  },
  {
   "cell_type": "code",
   "execution_count": null,
   "metadata": {},
   "outputs": [],
   "source": [
    "field_after_lens = cf.lenses.microlens_array(\n",
    "    scalar_field,\n",
    "    centers=jnp.array([[0], [0]]),\n",
    "    fs=jnp.array([2500]),\n",
    "    ns=[1],\n",
    "    NAs=[0.02]\n",
    "    )"
   ]
  },
  {
   "cell_type": "code",
   "execution_count": null,
   "metadata": {},
   "outputs": [],
   "source": [
    "field_after_first_lens = cf.objective_point_source(\n",
    "    (128, 128), 0.3, 0.532, 1.0, 0, f=10.0, n=1.0, NA=0.8\n",
    ")"
   ]
  },
  {
   "cell_type": "code",
   "execution_count": null,
   "metadata": {},
   "outputs": [],
   "source": [
    "field_after_first_lens.shape"
   ]
  },
  {
   "cell_type": "code",
   "execution_count": null,
   "metadata": {},
   "outputs": [],
   "source": [
    "field_after_mla = cf.lenses.microlens_array(\n",
    "    field_after_first_lens,\n",
    "    centers=jnp.array([[0], [0]]),\n",
    "    fs=jnp.array([2500]),\n",
    "    ns=[1],\n",
    "    NAs=[0.02]\n",
    ")"
   ]
  },
  {
   "cell_type": "code",
   "execution_count": null,
   "metadata": {},
   "outputs": [],
   "source": [
    "plt.imshow(field_after_mla.intensity.squeeze())"
   ]
  },
  {
   "cell_type": "code",
   "execution_count": null,
   "metadata": {},
   "outputs": [],
   "source": [
    "field_after_mla.phase[0, 64, 64, 0, 0]"
   ]
  },
  {
   "cell_type": "code",
   "execution_count": null,
   "metadata": {},
   "outputs": [],
   "source": [
    "plt.imshow(field_after_first_lens.phase.squeeze())\n",
    "plt.colorbar()"
   ]
  },
  {
   "cell_type": "code",
   "execution_count": null,
   "metadata": {},
   "outputs": [],
   "source": [
    "my_phase = field_after_mla.phase[0, :, :, 0, 0]\n",
    "my_phase = field_after_mla.phase[0, 0, 0, :, :]"
   ]
  },
  {
   "cell_type": "code",
   "execution_count": null,
   "metadata": {},
   "outputs": [],
   "source": [
    "field_after_mla.phase.shape"
   ]
  },
  {
   "cell_type": "code",
   "execution_count": null,
   "metadata": {},
   "outputs": [],
   "source": [
    "plt.imshow(my_phase.squeeze())\n",
    "plt.colorbar()"
   ]
  },
  {
   "cell_type": "code",
   "execution_count": null,
   "metadata": {},
   "outputs": [],
   "source": [
    "plt.imshow(field.phase.squeeze())"
   ]
  },
  {
   "cell_type": "code",
   "execution_count": null,
   "metadata": {},
   "outputs": [],
   "source": [
    "plt.imshow(field_after_lens.intensity.squeeze())"
   ]
  },
  {
   "cell_type": "code",
   "execution_count": null,
   "metadata": {},
   "outputs": [],
   "source": [
    "field_after_lens = cf.square_pupil(scalar_field, w=100.0)"
   ]
  },
  {
   "cell_type": "code",
   "execution_count": null,
   "metadata": {},
   "outputs": [],
   "source": [
    "field_pt_source = cf.objective_point_source(\n",
    "    (15, 15), 0.3, 0.532, 1.0, 0, f=10.0, n=1.0, NA=0.8\n",
    ")"
   ]
  },
  {
   "cell_type": "code",
   "execution_count": null,
   "metadata": {},
   "outputs": [],
   "source": [
    "field = field_pt_source"
   ]
  },
  {
   "cell_type": "markdown",
   "metadata": {},
   "source": [
    "## Explicitly propagating through a microlens array"
   ]
  },
  {
   "cell_type": "code",
   "execution_count": null,
   "metadata": {},
   "outputs": [],
   "source": [
    "f = 2500\n",
    "D = 100\n",
    "ns = 5\n",
    "nu = 3\n",
    "\n",
    "\n",
    "# assert lenslet_len == nu\n",
    "\n",
    "wavelength = field._spectrum\n",
    "(_, M, N, _, _) = field.shape\n",
    "lenslet_len = int(M / ns)\n",
    "nu = int(nu)\n",
    "dx = field._dx[0].item()\n",
    "k = 2 * jnp.pi / wavelength\n",
    "x = jnp.linspace(-D/2 + dx/2, D/2 - dx/2, lenslet_len)\n",
    "X, Y = jnp.meshgrid(x, x)\n",
    "phase = jnp.exp(-1j * k / (2 * f) * (jnp.square(X) + jnp.square(Y)))"
   ]
  },
  {
   "cell_type": "code",
   "execution_count": null,
   "metadata": {},
   "outputs": [],
   "source": [
    "phase_dim_ext = jnp.expand_dims(phase, axis=(0, -2, -1))"
   ]
  },
  {
   "cell_type": "code",
   "execution_count": null,
   "metadata": {},
   "outputs": [],
   "source": [
    "for s in jnp.arange(ns):\n",
    "    for t in jnp.arange(ns):\n",
    "        cell = field.u[:, s*lenslet_len:(s+1)*lenslet_len, t*lenslet_len:(t+1)*lenslet_len]\n",
    "        # modified_field = (cell * phase).reshape(1, nu, nu, 1, 1)\n",
    "        # field.u = field.u.at[:, s*lenslet_len:(s+1)*lenslet_len, t*lenslet_len:(t+1)*lenslet_len, :, :].set(cell * phase_dim_ext)\n",
    "        field.u.at[:, s*lenslet_len:(s+1)*lenslet_len, t*lenslet_len:(t+1)*lenslet_len, :, :].set(cell * phase_dim_ext)\n",
    "        # field.replace(u=u)"
   ]
  },
  {
   "cell_type": "code",
   "execution_count": null,
   "metadata": {},
   "outputs": [],
   "source": [
    "plt.imshow(field.intensity.squeeze())"
   ]
  },
  {
   "cell_type": "code",
   "execution_count": null,
   "metadata": {},
   "outputs": [],
   "source": [
    "field_pt_source_plain = cf.objective_point_source(\n",
    "    (128, 128), 0.3, 0.532, 1.0, 0, f=10.0, n=1.0, NA=0.8\n",
    ")"
   ]
  },
  {
   "cell_type": "code",
   "execution_count": null,
   "metadata": {},
   "outputs": [],
   "source": [
    "plt.imshow(field_pt_source_plain.intensity.squeeze())\n",
    "plt.colorbar()"
   ]
  }
 ],
 "metadata": {
  "kernelspec": {
   "display_name": "chrom",
   "language": "python",
   "name": "python3"
  },
  "language_info": {
   "codemirror_mode": {
    "name": "ipython",
    "version": 3
   },
   "file_extension": ".py",
   "mimetype": "text/x-python",
   "name": "python",
   "nbconvert_exporter": "python",
   "pygments_lexer": "ipython3",
   "version": "3.11.5"
  }
 },
 "nbformat": 4,
 "nbformat_minor": 2
}
